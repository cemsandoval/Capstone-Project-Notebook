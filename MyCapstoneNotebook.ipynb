{
 "cells": [
  {
   "cell_type": "markdown",
   "id": "9c1f9805-fe59-493e-ad40-6609da68a10a",
   "metadata": {},
   "source": [
    "**APPLIED DATA SCIENCE CAPSTONE**"
   ]
  },
  {
   "cell_type": "markdown",
   "id": "788a8b9a-0329-4c3a-b238-cd24c32a1865",
   "metadata": {
    "tags": []
   },
   "source": [
    "this notebook will be mainly used for the capstone project."
   ]
  },
  {
   "cell_type": "code",
   "execution_count": 1,
   "id": "11ebc681-5695-4410-9867-ff2a7c5e8b68",
   "metadata": {},
   "outputs": [
    {
     "name": "stdout",
     "output_type": "stream",
     "text": [
      "Hello Capstone Project Course!\n"
     ]
    }
   ],
   "source": [
    "#Import libraries\n",
    "import pandas as pd\n",
    "import numpy as np\n",
    "\n",
    "print(\"Hello Capstone Project Course!\")"
   ]
  },
  {
   "cell_type": "code",
   "execution_count": null,
   "id": "35f372a2-3c8e-4f24-8168-da63cfdcadde",
   "metadata": {},
   "outputs": [],
   "source": []
  }
 ],
 "metadata": {
  "kernelspec": {
   "display_name": "Python",
   "language": "python",
   "name": "conda-env-python-py"
  },
  "language_info": {
   "codemirror_mode": {
    "name": "ipython",
    "version": 3
   },
   "file_extension": ".py",
   "mimetype": "text/x-python",
   "name": "python",
   "nbconvert_exporter": "python",
   "pygments_lexer": "ipython3",
   "version": "3.6.13"
  }
 },
 "nbformat": 4,
 "nbformat_minor": 5
}
